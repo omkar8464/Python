{
 "cells": [
  {
   "cell_type": "markdown",
   "id": "cbb439b1-0e84-4b40-9c7e-309c433f15dc",
   "metadata": {},
   "source": [
    "Welcome to numpy tutorial"
   ]
  },
  {
   "cell_type": "code",
   "execution_count": 1,
   "id": "7d8a707a-0de8-44cf-a107-57b7a49d49a8",
   "metadata": {},
   "outputs": [],
   "source": [
    "import numpy as np"
   ]
  },
  {
   "cell_type": "code",
   "execution_count": 2,
   "id": "e2bdbd1d-10d1-47a2-b649-b4e6e8143b27",
   "metadata": {},
   "outputs": [
    {
     "data": {
      "text/plain": [
       "array([[ 3,  6, 45,  7]])"
      ]
     },
     "execution_count": 2,
     "metadata": {},
     "output_type": "execute_result"
    }
   ],
   "source": [
    "myarr=np.array([[3,6,45,7]])\n",
    "myarr"
   ]
  },
  {
   "cell_type": "code",
   "execution_count": 3,
   "id": "2e1b6a1d-00de-4030-91b0-6e737af61685",
   "metadata": {},
   "outputs": [
    {
     "data": {
      "text/plain": [
       "array([ 3,  6, 45,  7])"
      ]
     },
     "execution_count": 3,
     "metadata": {},
     "output_type": "execute_result"
    }
   ],
   "source": [
    "#For zero row and column\n",
    "myarr[0]"
   ]
  },
  {
   "cell_type": "code",
   "execution_count": 4,
   "id": "71d16fd2-e220-4fcc-aa4c-499a2cf70dad",
   "metadata": {},
   "outputs": [
    {
     "data": {
      "text/plain": [
       "6"
      ]
     },
     "execution_count": 4,
     "metadata": {},
     "output_type": "execute_result"
    }
   ],
   "source": [
    "#For zero and 1 column\n",
    "myarr[0,1]"
   ]
  },
  {
   "cell_type": "code",
   "execution_count": 5,
   "id": "c1388913-0467-4d2f-a550-e541929b3082",
   "metadata": {},
   "outputs": [
    {
     "data": {
      "text/plain": [
       "45"
      ]
     },
     "execution_count": 5,
     "metadata": {},
     "output_type": "execute_result"
    }
   ],
   "source": [
    "#for 0 row and 2 column\n",
    "myarr[0,2]"
   ]
  },
  {
   "cell_type": "code",
   "execution_count": 6,
   "id": "a9d76892-361a-4d1e-8ea9-956ac42a6380",
   "metadata": {},
   "outputs": [
    {
     "data": {
      "text/plain": [
       "(1, 4)"
      ]
     },
     "execution_count": 6,
     "metadata": {},
     "output_type": "execute_result"
    }
   ],
   "source": [
    "myarr.shape"
   ]
  },
  {
   "cell_type": "code",
   "execution_count": 7,
   "id": "49d8b85b-53d8-4eb7-873e-b1eb74cfd903",
   "metadata": {},
   "outputs": [
    {
     "data": {
      "text/plain": [
       "dtype('int32')"
      ]
     },
     "execution_count": 7,
     "metadata": {},
     "output_type": "execute_result"
    }
   ],
   "source": [
    "myarr.dtype"
   ]
  },
  {
   "cell_type": "code",
   "execution_count": 8,
   "id": "bda893f3-4ba9-483f-a3f2-0d4e11fff4fc",
   "metadata": {},
   "outputs": [
    {
     "data": {
      "text/plain": [
       "numpy.ndarray"
      ]
     },
     "execution_count": 8,
     "metadata": {},
     "output_type": "execute_result"
    }
   ],
   "source": [
    "type(myarr)"
   ]
  },
  {
   "cell_type": "code",
   "execution_count": 9,
   "id": "dfb52d83-c265-4aec-bc17-9980b7f75d3c",
   "metadata": {},
   "outputs": [],
   "source": [
    "#Change element position\n",
    "myarr[0,1]=32"
   ]
  },
  {
   "cell_type": "code",
   "execution_count": 10,
   "id": "b52226d4-0c44-4929-a2e5-a6869c58c63d",
   "metadata": {},
   "outputs": [
    {
     "data": {
      "text/plain": [
       "array([[ 3, 32, 45,  7]])"
      ]
     },
     "execution_count": 10,
     "metadata": {},
     "output_type": "execute_result"
    }
   ],
   "source": [
    "myarr"
   ]
  },
  {
   "cell_type": "markdown",
   "id": "e31344fe-6d41-4f49-8323-34ce2b3fdbf1",
   "metadata": {},
   "source": [
    "Array creation: Conversion from other Python structure"
   ]
  },
  {
   "cell_type": "code",
   "execution_count": 11,
   "id": "937ecc8a-fb45-4c0a-ac33-9a7e7c496803",
   "metadata": {},
   "outputs": [],
   "source": [
    "listarray = np.array([1, 2, 3, 4])\n",
    "listarray2D = np.array([[1, 2, 3], [4, 5, 6], [7, 8, 9]])"
   ]
  },
  {
   "cell_type": "code",
   "execution_count": 12,
   "id": "53dc190b-3d0a-4e87-81a1-21045a34be19",
   "metadata": {},
   "outputs": [
    {
     "data": {
      "text/plain": [
       "array([[1, 2, 3],\n",
       "       [4, 5, 6],\n",
       "       [7, 8, 9]])"
      ]
     },
     "execution_count": 12,
     "metadata": {},
     "output_type": "execute_result"
    }
   ],
   "source": [
    "listarray2D"
   ]
  },
  {
   "cell_type": "code",
   "execution_count": 13,
   "id": "c4570cba-9d87-44ad-81e6-3bf16a63ceb4",
   "metadata": {},
   "outputs": [
    {
     "data": {
      "text/plain": [
       "dtype('int32')"
      ]
     },
     "execution_count": 13,
     "metadata": {},
     "output_type": "execute_result"
    }
   ],
   "source": [
    "listarray2D.dtype"
   ]
  },
  {
   "cell_type": "code",
   "execution_count": 15,
   "id": "cb6d6404-32c4-45c1-be20-e033906159fd",
   "metadata": {},
   "outputs": [
    {
     "data": {
      "text/plain": [
       "(3, 3)"
      ]
     },
     "execution_count": 15,
     "metadata": {},
     "output_type": "execute_result"
    }
   ],
   "source": [
    "listarray2D.shape"
   ]
  },
  {
   "cell_type": "code",
   "execution_count": 16,
   "id": "da16a8a0-05fe-42d4-9bf7-ba3c18574bff",
   "metadata": {},
   "outputs": [],
   "source": [
    "zeros=np.zeros((2,5))"
   ]
  },
  {
   "cell_type": "code",
   "execution_count": 17,
   "id": "d1d2be21-4c6a-487a-981d-861d37f9c70d",
   "metadata": {},
   "outputs": [
    {
     "data": {
      "text/plain": [
       "array([[0., 0., 0., 0., 0.],\n",
       "       [0., 0., 0., 0., 0.]])"
      ]
     },
     "execution_count": 17,
     "metadata": {},
     "output_type": "execute_result"
    }
   ],
   "source": [
    "zeros"
   ]
  },
  {
   "cell_type": "code",
   "execution_count": 18,
   "id": "dd4f1866-53eb-475d-904e-4de0ed086664",
   "metadata": {},
   "outputs": [],
   "source": [
    "range=np.arange(15)"
   ]
  },
  {
   "cell_type": "code",
   "execution_count": 19,
   "id": "ad0f249a-7d6e-4302-87c3-6a0d3116a0c2",
   "metadata": {},
   "outputs": [
    {
     "data": {
      "text/plain": [
       "array([ 0,  1,  2,  3,  4,  5,  6,  7,  8,  9, 10, 11, 12, 13, 14])"
      ]
     },
     "execution_count": 19,
     "metadata": {},
     "output_type": "execute_result"
    }
   ],
   "source": [
    "range"
   ]
  },
  {
   "cell_type": "code",
   "execution_count": 20,
   "id": "a27a8084-8a19-4d46-9852-6af621a238fe",
   "metadata": {},
   "outputs": [],
   "source": [
    "lspace=np.linspace(1,20,10)"
   ]
  },
  {
   "cell_type": "code",
   "execution_count": 21,
   "id": "900baf24-e15f-4fa7-8704-7cc04c1cc7bd",
   "metadata": {},
   "outputs": [
    {
     "data": {
      "text/plain": [
       "array([ 1.        ,  3.11111111,  5.22222222,  7.33333333,  9.44444444,\n",
       "       11.55555556, 13.66666667, 15.77777778, 17.88888889, 20.        ])"
      ]
     },
     "execution_count": 21,
     "metadata": {},
     "output_type": "execute_result"
    }
   ],
   "source": [
    "lspace"
   ]
  },
  {
   "cell_type": "code",
   "execution_count": 22,
   "id": "9f481736-de86-425a-b490-2302ca4e45c1",
   "metadata": {},
   "outputs": [],
   "source": [
    "emp=np.empty((4,6))"
   ]
  },
  {
   "cell_type": "code",
   "execution_count": 23,
   "id": "7e75866a-6a5c-4a62-ba69-66d62b8c4aab",
   "metadata": {},
   "outputs": [
    {
     "data": {
      "text/plain": [
       "array([[6.95288389e-310, 6.95288388e-310, 0.00000000e+000,\n",
       "        0.00000000e+000, 1.40174999e-311, 4.94065646e-324],\n",
       "       [0.00000000e+000, 0.00000000e+000, 4.04738577e-320,\n",
       "        0.00000000e+000, 1.23022346e-321, 1.40179280e-311],\n",
       "       [1.05700345e-307, 3.11525958e-307, 0.00000000e+000,\n",
       "        1.40179223e-311, 1.20160711e-306, 1.69119330e-306],\n",
       "       [1.02361614e-306, 5.38531554e-322, 1.78021527e-306,\n",
       "        1.69119330e-306, 9.79101082e-307,             nan]])"
      ]
     },
     "execution_count": 23,
     "metadata": {},
     "output_type": "execute_result"
    }
   ],
   "source": [
    "emp"
   ]
  },
  {
   "cell_type": "code",
   "execution_count": 24,
   "id": "126be692-b737-4d54-82f3-5e009d97a90b",
   "metadata": {},
   "outputs": [],
   "source": [
    "x=([[1,2,3],[4,5,6],[7,8,9]])"
   ]
  },
  {
   "cell_type": "code",
   "execution_count": 25,
   "id": "ae3554cb-ee75-4a28-a4fe-843356184438",
   "metadata": {},
   "outputs": [],
   "source": [
    "ar=np.array(x)"
   ]
  },
  {
   "cell_type": "code",
   "execution_count": 26,
   "id": "d26a548b-27d8-4854-a551-dc6956a8e092",
   "metadata": {},
   "outputs": [
    {
     "data": {
      "text/plain": [
       "array([[1, 2, 3],\n",
       "       [4, 5, 6],\n",
       "       [7, 8, 9]])"
      ]
     },
     "execution_count": 26,
     "metadata": {},
     "output_type": "execute_result"
    }
   ],
   "source": [
    "ar"
   ]
  },
  {
   "cell_type": "code",
   "execution_count": 28,
   "id": "0f80bd36-86fc-480a-ae77-9b23c8405f8e",
   "metadata": {},
   "outputs": [
    {
     "data": {
      "text/plain": [
       "array([12, 15, 18])"
      ]
     },
     "execution_count": 28,
     "metadata": {},
     "output_type": "execute_result"
    }
   ],
   "source": [
    "ar.sum(axis=0)"
   ]
  },
  {
   "cell_type": "code",
   "execution_count": 29,
   "id": "922c4a67-59d9-4377-a596-5abc451a5a25",
   "metadata": {},
   "outputs": [
    {
     "data": {
      "text/plain": [
       "array([ 6, 15, 24])"
      ]
     },
     "execution_count": 29,
     "metadata": {},
     "output_type": "execute_result"
    }
   ],
   "source": [
    "ar.sum(axis=1)"
   ]
  },
  {
   "cell_type": "code",
   "execution_count": 31,
   "id": "4cd681ec-6545-4b2f-9ccb-05a455637cba",
   "metadata": {},
   "outputs": [
    {
     "data": {
      "text/plain": [
       "array([[1, 4, 7],\n",
       "       [2, 5, 8],\n",
       "       [3, 6, 9]])"
      ]
     },
     "execution_count": 31,
     "metadata": {},
     "output_type": "execute_result"
    }
   ],
   "source": [
    "#it transpose a matrix\n",
    "ar.T"
   ]
  },
  {
   "cell_type": "code",
   "execution_count": 32,
   "id": "e26b744a-7824-444e-a59c-b9c36e01344a",
   "metadata": {},
   "outputs": [
    {
     "data": {
      "text/plain": [
       "<numpy.flatiter at 0x29499f87010>"
      ]
     },
     "execution_count": 32,
     "metadata": {},
     "output_type": "execute_result"
    }
   ],
   "source": [
    "#The numpy.ndarray.flat() function is used as a 1_D iterator over N-dimensional arrays. \n",
    "#It is not a subclass of, Python’s built-in iterator object, otherwise it a numpy.flatiter instance\n",
    "ar.flat"
   ]
  },
  {
   "cell_type": "code",
   "execution_count": 34,
   "id": "efe3fe14-f2b8-4054-a28d-bbac32944c0c",
   "metadata": {},
   "outputs": [
    {
     "name": "stdout",
     "output_type": "stream",
     "text": [
      "1\n",
      "2\n",
      "3\n",
      "4\n",
      "5\n",
      "6\n",
      "7\n",
      "8\n",
      "9\n"
     ]
    }
   ],
   "source": [
    "for item in ar.flat:\n",
    "    print(item)"
   ]
  },
  {
   "cell_type": "code",
   "execution_count": 35,
   "id": "c28a236a-11ea-4eac-9ba9-460ae4340f26",
   "metadata": {},
   "outputs": [
    {
     "data": {
      "text/plain": [
       "2"
      ]
     },
     "execution_count": 35,
     "metadata": {},
     "output_type": "execute_result"
    }
   ],
   "source": [
    "ar.ndim"
   ]
  },
  {
   "cell_type": "code",
   "execution_count": 36,
   "id": "e0740246-3ef1-4d3c-888e-5ba58351f602",
   "metadata": {},
   "outputs": [
    {
     "data": {
      "text/plain": [
       "9"
      ]
     },
     "execution_count": 36,
     "metadata": {},
     "output_type": "execute_result"
    }
   ],
   "source": [
    "ar.size"
   ]
  },
  {
   "cell_type": "code",
   "execution_count": 37,
   "id": "60b9bc6b-4a62-410e-96c9-0c4b84193446",
   "metadata": {},
   "outputs": [
    {
     "data": {
      "text/plain": [
       "36"
      ]
     },
     "execution_count": 37,
     "metadata": {},
     "output_type": "execute_result"
    }
   ],
   "source": [
    "ar.nbytes"
   ]
  },
  {
   "cell_type": "code",
   "execution_count": 38,
   "id": "f39442f7-69ce-4240-bb70-6b4745b7023b",
   "metadata": {},
   "outputs": [
    {
     "data": {
      "text/plain": [
       "3"
      ]
     },
     "execution_count": 38,
     "metadata": {},
     "output_type": "execute_result"
    }
   ],
   "source": [
    "#argmax it give the maximum values\n",
    "one=np.array([1,2,34,54,4])\n",
    "one.argmax()"
   ]
  },
  {
   "cell_type": "code",
   "execution_count": 39,
   "id": "1a55c54d-dc89-4e37-911e-2d811e4d5029",
   "metadata": {},
   "outputs": [
    {
     "data": {
      "text/plain": [
       "0"
      ]
     },
     "execution_count": 39,
     "metadata": {},
     "output_type": "execute_result"
    }
   ],
   "source": [
    "one.argmin()"
   ]
  },
  {
   "cell_type": "code",
   "execution_count": 41,
   "id": "e4bb47ef-5381-4112-84bc-c59693ba327e",
   "metadata": {},
   "outputs": [
    {
     "data": {
      "text/plain": [
       "array([0, 1, 4, 2, 3], dtype=int64)"
      ]
     },
     "execution_count": 41,
     "metadata": {},
     "output_type": "execute_result"
    }
   ],
   "source": [
    "#it arrange into min to max\n",
    "one.argsort()"
   ]
  },
  {
   "cell_type": "code",
   "execution_count": 42,
   "id": "59368a41-5fe3-491b-9096-51f5feb79d36",
   "metadata": {},
   "outputs": [
    {
     "data": {
      "text/plain": [
       "array([[1, 2, 3],\n",
       "       [4, 5, 6],\n",
       "       [7, 8, 9]])"
      ]
     },
     "execution_count": 42,
     "metadata": {},
     "output_type": "execute_result"
    }
   ],
   "source": [
    "ar"
   ]
  },
  {
   "cell_type": "code",
   "execution_count": 43,
   "id": "59e96627-e8ae-48f7-874b-a899ff6769fb",
   "metadata": {},
   "outputs": [
    {
     "data": {
      "text/plain": [
       "0"
      ]
     },
     "execution_count": 43,
     "metadata": {},
     "output_type": "execute_result"
    }
   ],
   "source": [
    "ar.argmin()"
   ]
  },
  {
   "cell_type": "code",
   "execution_count": 46,
   "id": "62af1a56-f45a-4e18-bf95-0c98e057e68e",
   "metadata": {},
   "outputs": [
    {
     "data": {
      "text/plain": [
       "8"
      ]
     },
     "execution_count": 46,
     "metadata": {},
     "output_type": "execute_result"
    }
   ],
   "source": [
    "ar.argmax()"
   ]
  },
  {
   "cell_type": "code",
   "execution_count": 47,
   "id": "202c8e2d-9842-4da7-8362-80a3f817fc83",
   "metadata": {},
   "outputs": [
    {
     "data": {
      "text/plain": [
       "array([2, 2, 2], dtype=int64)"
      ]
     },
     "execution_count": 47,
     "metadata": {},
     "output_type": "execute_result"
    }
   ],
   "source": [
    "ar.argmax(axis=0)"
   ]
  },
  {
   "cell_type": "code",
   "execution_count": 48,
   "id": "ac39b8b8-cc68-4f6d-98ca-80806a7ca679",
   "metadata": {},
   "outputs": [
    {
     "data": {
      "text/plain": [
       "array([2, 2, 2], dtype=int64)"
      ]
     },
     "execution_count": 48,
     "metadata": {},
     "output_type": "execute_result"
    }
   ],
   "source": [
    "ar.argmax(axis=1)"
   ]
  },
  {
   "cell_type": "code",
   "execution_count": 50,
   "id": "da0fc65e-1e76-485f-82e9-99c3a564138a",
   "metadata": {},
   "outputs": [
    {
     "data": {
      "text/plain": [
       "array([[0, 0, 0],\n",
       "       [1, 1, 1],\n",
       "       [2, 2, 2]], dtype=int64)"
      ]
     },
     "execution_count": 50,
     "metadata": {},
     "output_type": "execute_result"
    }
   ],
   "source": [
    "ar.argsort(axis=0)"
   ]
  },
  {
   "cell_type": "code",
   "execution_count": null,
   "id": "3f6d72c7-338f-4d7d-97e2-976d2ccb527d",
   "metadata": {},
   "outputs": [],
   "source": []
  }
 ],
 "metadata": {
  "kernelspec": {
   "display_name": "Python 3 (ipykernel)",
   "language": "python",
   "name": "python3"
  },
  "language_info": {
   "codemirror_mode": {
    "name": "ipython",
    "version": 3
   },
   "file_extension": ".py",
   "mimetype": "text/x-python",
   "name": "python",
   "nbconvert_exporter": "python",
   "pygments_lexer": "ipython3",
   "version": "3.12.2"
  }
 },
 "nbformat": 4,
 "nbformat_minor": 5
}
